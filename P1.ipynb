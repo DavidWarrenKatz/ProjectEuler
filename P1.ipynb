{
 "cells": [
  {
   "cell_type": "code",
   "execution_count": null,
   "metadata": {},
   "outputs": [],
   "source": [
    "x=0\n",
    "for i in range(1000):\n",
    "    if i%3==0:\n",
    "        x=x+i\n",
    "        \n",
    "y=0\n",
    "for i in range(1000):\n",
    "    if i%5==0:\n",
    "        y=y+i\n",
    "        \n",
    "z=0\n",
    "for i in range(1000):\n",
    "    if i%15==0:\n",
    "        z=z+i\n",
    "        \n",
    "print(x+y-z)"
   ]
  }
 ],
 "metadata": {
  "kernelspec": {
   "display_name": "Python 3",
   "language": "python",
   "name": "python3"
  },
  "language_info": {
   "codemirror_mode": {
    "name": "ipython",
    "version": 3
   },
   "file_extension": ".py",
   "mimetype": "text/x-python",
   "name": "python",
   "nbconvert_exporter": "python",
   "pygments_lexer": "ipython3",
   "version": "3.7.4"
  }
 },
 "nbformat": 4,
 "nbformat_minor": 2
}
